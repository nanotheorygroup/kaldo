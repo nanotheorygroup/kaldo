{
 "cells": [
  {
   "cell_type": "markdown",
   "metadata": {
    "id": "XBeaBnL82NOM"
   },
   "source": [
    "This notebook can be run on Google Colab.\n",
    "\n",
    "[![Open in Colab](https://colab.research.google.com/assets/colab-badge.svg)](https://colab.research.google.com/github/nanotheorygroup/kaldo/blob/master/docs/docsource/crystal_presentation.ipynb)\n",
    "\n",
    "In Colab, you can enable the GPU acceleration from `Edit` > `Notebook Settings` > `Accelerator` > `GPU`."
   ]
  },
  {
   "cell_type": "markdown",
   "metadata": {
    "id": "wW4-RGLk2QbJ"
   },
   "source": [
    "# Silicon diamond tutorial\n",
    "\n",
    "## Complie [LAMMPS](https://github.com/lammps/lammps) as shared-library of python ($\\sim$ 10 min)"
   ]
  },
  {
   "cell_type": "code",
   "execution_count": null,
   "metadata": {
    "id": "OIAXE-KV6BF8"
   },
   "outputs": [],
   "source": [
    "%%capture\n",
    "# Sudo apt-get softwares\n",
    "! apt-get update\n",
    "! apt install -y cmake build-essential git ccache openmpi-bin libopenmpi-dev python3.11-venv virtualenv\n",
    "! echo \"Sudo apt-get finishes!\"\n",
    "\n",
    "# Upgrade python packages\n",
    "! pip install --upgrade pip\n",
    "! echo \"Python packages installation finishes!\"\n",
    "\n",
    "# Build lammps with cmake\n",
    "%cd /content\n",
    "! rm -rf lammps sample_data\n",
    "! git clone https://github.com/lammps/lammps.git\n",
    "%cd /content/lammps\n",
    "! rm -rf build\n",
    "! mkdir build\n",
    "%cd build\n",
    "! cmake ../cmake -DLAMMPS_EXCEPTIONS=yes \\\n",
    "               -DBUILD_SHARED_LIBS=yes \\\n",
    "               -DMLIAP_ENABLE_PYTHON=yes \\\n",
    "               -DPKG_PYTHON=yes \\\n",
    "               -DPKG_MANYBODY=yes \\\n",
    "               -DPKG_KSPACE=yes \\\n",
    "               -DPKG_PHONON=yes \\\n",
    "               -DPYTHON_EXECUTABLE:FILEPATH=`which python`\n",
    "\n",
    "# Complie lammps as share-libary of python\n",
    "! make -j 2\n",
    "! make install-python\n",
    "! echo \"LAMMPS compilation done!\"\n",
    "\n",
    "# Redirect back to main folder\n",
    "%cd /content/"
   ]
  },
  {
   "cell_type": "markdown",
   "metadata": {
    "id": "xDuRPLMA5msm"
   },
   "source": [
    "## pip install $\\kappa$ALDo"
   ]
  },
  {
   "cell_type": "code",
   "execution_count": null,
   "metadata": {
    "id": "6G-DsQwX1nl4"
   },
   "outputs": [],
   "source": [
    "%%capture\n",
    "! pip install kaldo"
   ]
  },
  {
   "cell_type": "markdown",
   "metadata": {
    "id": "T2lEjnRw2dcB"
   },
   "source": [
    "## Write forcefield file\n"
   ]
  },
  {
   "cell_type": "code",
   "execution_count": null,
   "metadata": {
    "id": "yddHjxOy2dv5"
   },
   "outputs": [],
   "source": [
    "%%writefile Si.tersoff\n",
    "# DATE: 2007-10-25 CONTRIBUTOR: Aidan Thompson, athomps@sandia.gov CITATION: Tersoff, Phys Rev B, 37, 6991 (1988)\n",
    "\n",
    "# Tersoff parameters for various elements and mixtures\n",
    "# multiple entries can be added to this file, LAMMPS reads the ones it needs\n",
    "# these entries are in LAMMPS \"metal\" units:\n",
    "#   A,B = eV; lambda1,lambda2,lambda3 = 1/Angstroms; R,D = Angstroms\n",
    "#   other quantities are unitless\n",
    "\n",
    "# This is the Si parameterization from a particular Tersoff paper:\n",
    "# J. Tersoff, PRB, 37, 6991 (1988)\n",
    "# See the SiCGe.tersoff file for different Si variants.\n",
    "\n",
    "# format of a single entry (one or more lines):\n",
    "#   element 1, element 2, element 3,\n",
    "#   m, gamma, lambda3, c, d, costheta0, n, beta, lambda2, B, R, D, lambda1, A\n",
    "\n",
    "Si     Si      Si        3.0 1.0 0.0 1.0039e5 16.217 -0.59825 0.78734 1.1000e-6  1.7322  471.18    2.85    0.15   2.4799  1830.8"
   ]
  },
  {
   "cell_type": "markdown",
   "metadata": {
    "id": "nvL1t2Wt5e4X"
   },
   "source": [
    "## Thermal transport simulation for silicon-bulk"
   ]
  },
  {
   "cell_type": "code",
   "execution_count": null,
   "metadata": {
    "id": "hXkcBeU5_QwG"
   },
   "outputs": [],
   "source": [
    "from ase.build import bulk\n",
    "from ase.calculators.lammpslib import LAMMPSlib\n",
    "from kaldo.forceconstants import ForceConstants\n",
    "import numpy as np\n",
    "\n",
    "# We start from the atoms object\n",
    "atoms = bulk('Si', 'diamond', a=5.432)\n",
    "\n",
    "# Config super cell and calculator input\n",
    "supercell = np.array([3, 3, 3])\n",
    "lammps_inputs = {\n",
    "      'lmpcmds': [\n",
    "          'pair_style tersoff',\n",
    "          'pair_coeff * * Si.tersoff Si'],\n",
    "\n",
    "      'log_file': 'lammps-si-bulk.log',\n",
    "      'keep_alive':True}\n",
    "\n",
    "# Create a finite difference object\n",
    "forceconstants_config  = {'atoms':atoms,'supercell': supercell,'folder':'fd'}\n",
    "forceconstants = ForceConstants(**forceconstants_config)\n",
    "\n",
    "# Compute 2nd and 3rd IFCs with the defined calculators\n",
    "forceconstants.second.calculate(LAMMPSlib(**lammps_inputs), delta_shift=1e-3)\n",
    "forceconstants.third.calculate(LAMMPSlib(**lammps_inputs), delta_shift=1e-3)"
   ]
  },
  {
   "cell_type": "markdown",
   "metadata": {
    "id": "eqTobAF_CB-m"
   },
   "source": [
    "### Create phonons object\n"
   ]
  },
  {
   "cell_type": "code",
   "execution_count": null,
   "metadata": {
    "id": "UYwM7PVXCEa0"
   },
   "outputs": [],
   "source": [
    "from kaldo.phonons import Phonons\n",
    "\n",
    "# Define k-point grids, temperature\n",
    "# and the assumption for the\n",
    "# phonon poluation (i.e classical vs. quantum)\n",
    "k = 7\n",
    "kpts = [k, k, k]\n",
    "temperature = 300\n",
    "is_classic = False\n",
    "k_label = str(k) + '_' + str(k) + '_' + str(k)\n",
    "\n",
    "# Create a phonon object\n",
    "phonons = Phonons(forceconstants=forceconstants,\n",
    "                kpts=kpts,\n",
    "                is_classic=is_classic,\n",
    "                temperature=temperature,\n",
    "                folder='si-bulk-ald-' + k_label,\n",
    "                storage='numpy')"
   ]
  },
  {
   "cell_type": "markdown",
   "metadata": {
    "id": "MLZRdZRwCIG0"
   },
   "source": [
    "### Calculate conductivities for infinite-size sample\n"
   ]
  },
  {
   "cell_type": "code",
   "execution_count": null,
   "metadata": {
    "id": "QWs_1LgICIUd"
   },
   "outputs": [],
   "source": [
    "from kaldo.conductivity import Conductivity\n",
    "\n",
    "# Calculate conductivity  with direct inversion approach (inverse)\n",
    "print('\\n')\n",
    "inv_cond_matrix = (Conductivity(phonons=phonons, method='inverse').conductivity.sum(axis=0))\n",
    "print('Inverse conductivity (W/mK): %.3f'%(np.mean(np.diag(inv_cond_matrix))))\n",
    "print(inv_cond_matrix)\n",
    "\n",
    "# Calculate conductivity  with  relaxation time approximation (rta)\n",
    "print('\\n')\n",
    "rta_cond_matrix = Conductivity(phonons=phonons, method='rta').conductivity.sum(axis=0)\n",
    "print('Rta conductivity (W/mK): %.3f'%(np.mean(np.diag(rta_cond_matrix))))\n",
    "print(rta_cond_matrix)\n",
    "# Calculate conductivity  with  self-consistent approach (sc)\n",
    "\n",
    "print('\\n')\n",
    "sc_cond_matrix = Conductivity(phonons=phonons, method='sc',n_iterations=20).conductivity.sum(axis=0)\n",
    "print('Self-consistent conductivity (W/mK): %.3f'%(np.mean(np.diag(sc_cond_matrix))))\n",
    "print(sc_cond_matrix)"
   ]
  },
  {
   "cell_type": "markdown",
   "metadata": {
    "id": "FNMtnrSqCMel"
   },
   "source": [
    "### Visualize harmonic properties using built-in plotter\n"
   ]
  },
  {
   "cell_type": "code",
   "execution_count": null,
   "metadata": {
    "id": "O-TT1ZgXCMvb"
   },
   "outputs": [],
   "source": [
    "import kaldo.controllers.plotter as plotter\n",
    "import matplotlib.pyplot as plt\n",
    "plt.style.use('seaborn-v0_8')\n",
    "\n",
    "# Plot dispersion relation and group velocity in each direction\n",
    "plotter.plot_dispersion(phonons,n_k_points=int(k_label))\n",
    "print('\\n')"
   ]
  },
  {
   "cell_type": "markdown",
   "metadata": {
    "id": "pncDcGFmCPLW"
   },
   "source": [
    "### Access and visualize properties calculated during simulations"
   ]
  },
  {
   "cell_type": "code",
   "execution_count": null,
   "metadata": {
    "id": "Tx5FIPnKCPZ1"
   },
   "outputs": [],
   "source": [
    "# Direct access to properties\n",
    "# calculated during the simulation\n",
    "\n",
    "# Plot heat capacity vs frequency\n",
    "freq_full = phonons.frequency.flatten(order='C')\n",
    "cv_1d = phonons.heat_capacity.flatten(order='C')[3:]\n",
    "\n",
    "print('\\n')\n",
    "plt.figure()\n",
    "plt.scatter(freq_full[3:],1e23*cv_1d,s=15)\n",
    "plt.ylabel (r\"$C_{v}$ ($10^{23}$ J/K)\", fontsize=25, fontweight='bold')\n",
    "plt.xlabel (\"$\\\\nu$ (THz)\", fontsize=25, fontweight='bold')\n",
    "plt.ylim(0.9*1e23*cv_1d[cv_1d>0].min(),\n",
    "         1.05*1e23*cv_1d.max())\n",
    "plt.grid()\n",
    "plt.show()\n",
    "\n",
    "# Plot phonon bandwidth vs frequency\n",
    "band_width_flatten = phonons.bandwidth.flatten(order='C')\n",
    "freq = freq_full[band_width_flatten!=0]\n",
    "\n",
    "print('\\n')\n",
    "plt.figure()\n",
    "plt.scatter(freq,band_width_flatten[band_width_flatten!=0] ,s=15)\n",
    "plt.ylabel (r\"$\\Gamma$ (THz)\", fontsize=25, fontweight='bold')\n",
    "plt.xlabel (\"$\\\\nu$ (THz)\", fontsize=25, fontweight='bold')\n",
    "plt.ylim(0.95*band_width_flatten .min(), 1.05*band_width_flatten .max())\n",
    "plt.grid()\n",
    "plt.show()\n",
    "\n",
    "# Plot phase space vs frequency\n",
    "print('\\n')\n",
    "plt.figure()\n",
    "plt.scatter(freq_full[3:],phonons.phase_space.flatten(order='C')[3:],s=15)\n",
    "plt.ylabel (\"Phase space\", fontsize=25, fontweight='bold')\n",
    "plt.xlabel (\"$\\\\nu$ (THz)\", fontsize=25, fontweight='bold')\n",
    "plt.ylim(phonons.phase_space.min(), phonons.phase_space.max())\n",
    "plt.grid()\n",
    "plt.show()"
   ]
  },
  {
   "cell_type": "markdown",
   "metadata": {
    "id": "kq8Fg_H1CQu-"
   },
   "source": [
    "### Calculate and visualize $\\kappa_{per \\ mode}$ and $\\kappa_{cum}$"
   ]
  },
  {
   "cell_type": "code",
   "execution_count": null,
   "metadata": {
    "id": "km6Vvh8lCTkt"
   },
   "outputs": [],
   "source": [
    "def cumulative_cond_cal(freq,full_cond,n_phonons):\n",
    "\n",
    "  conductivity = np.einsum('maa->m', 1/3 * full_cond)\n",
    "  conductivity = conductivity.reshape(n_phonons)\n",
    "  cumulative_cond = np.zeros_like(conductivity)\n",
    "  freq_reshaped = freq.reshape(n_phonons)\n",
    "\n",
    "  for mu in range(cumulative_cond.size):\n",
    "      single_cumulative_cond = conductivity[(freq_reshaped < freq_reshaped[mu])].sum()\n",
    "      cumulative_cond[mu] = single_cumulative_cond\n",
    "\n",
    "  return cumulative_cond"
   ]
  },
  {
   "cell_type": "code",
   "execution_count": null,
   "metadata": {
    "id": "HZSC-vLJCVI0"
   },
   "outputs": [],
   "source": [
    "# Compute conductivity with per phonon mode basis using different methods\n",
    "kappa_rta_per_mode = np.einsum('maa->m',1/3*Conductivity(phonons=phonons, method='rta').conductivity)\n",
    "kappa_inv_per_mode = np.einsum('maa->m',1/3*Conductivity(phonons=phonons, method='inverse').conductivity)\n",
    "kappa_sc_per_mode = np.einsum('maa->m',1/3*Conductivity(phonons=phonons, method='sc',n_iterations=20).conductivity)\n",
    "\n",
    "# Compute cumulative conductivity by frequency using different methods\n",
    "kappa_rta_cum_freq = cumulative_cond_cal(phonons.frequency,Conductivity(phonons=phonons, method='rta').conductivity,phonons.n_phonons)\n",
    "kappa_sc_cum_freq = cumulative_cond_cal(phonons.frequency,Conductivity(phonons=phonons, method='sc',n_iterations=20).conductivity,phonons.n_phonons)\n",
    "kappa_inv_cum_freq = cumulative_cond_cal(phonons.frequency,Conductivity(phonons=phonons, method='inverse').conductivity,phonons.n_phonons)\n",
    "kappa_qhgk_cum_freq = cumulative_cond_cal(phonons.frequency,Conductivity(phonons=phonons, method='qhgk').conductivity,phonons.n_phonons)\n",
    "print('\\n')\n",
    "\n",
    "# Visualize the cumulative conductivity vs frequency\n",
    "plt.figure()\n",
    "plt.plot(freq_full,kappa_rta_per_mode,'r.',label='RTA')\n",
    "plt.plot(freq_full,kappa_sc_per_mode,'mo',label='Self Consistent',ms=8)\n",
    "plt.plot(freq_full,kappa_inv_per_mode,'k.',label='Direct Inversion')\n",
    "plt.xlabel (\"$\\\\nu$ (THz)\", fontsize=25, fontweight='bold')\n",
    "plt.ylabel(r'$\\kappa(W/m/K)$', fontsize=25, fontweight='bold')\n",
    "plt.legend(loc=1,frameon=False)\n",
    "plt.grid()\n",
    "plt.show()\n",
    "print('\\n')\n",
    "\n",
    "# Visualize the cumulative conductivity vs frequency\n",
    "plt.figure()\n",
    "plt.plot(freq_full,kappa_rta_cum_freq,'r.',label='RTA')\n",
    "plt.plot(freq_full,kappa_sc_cum_freq,'mo',label='Self Consistent',ms=8)\n",
    "plt.plot(freq_full,kappa_inv_cum_freq,'k.',label='Direct Inversion')\n",
    "plt.xlabel (\"$\\\\nu$ (THz)\", fontsize=25, fontweight='bold')\n",
    "plt.ylabel(r'$\\kappa_{cum}(W/m/K)$', fontsize=25, fontweight='bold')\n",
    "plt.legend(loc=4,frameon=False)\n",
    "plt.grid()\n",
    "plt.show()"
   ]
  }
 ],
 "metadata": {
  "accelerator": "GPU",
  "colab": {
   "provenance": []
  },
  "gpuClass": "standard",
  "kernelspec": {
   "display_name": "Python 3",
   "name": "python3"
  },
  "language_info": {
   "name": "python"
  }
 },
 "nbformat": 4,
 "nbformat_minor": 0
}
