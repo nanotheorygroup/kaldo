{
 "cells": [
  {
   "cell_type": "markdown",
   "metadata": {
    "collapsed": false
   },
   "source": [
    "This notebook can be run on Google Colab.\n",
    "\n",
    "[![Open in Colab](https://colab.research.google.com/assets/colab-badge.svg)](https://colab.research.google.com/github/nanotheorygroup/kaldo/blob/master/docs/docsource/crystal_presentation.ipynb)\n",
    "\n",
    "\n",
    "\n",
    "In Colab, you can enable the GPU acceleration from `Edit` > `Notebook Settings` > `Accelerator` > `GPU`."
   ]
  },
  {
   "cell_type": "markdown",
   "metadata": {
    "colab_type": "text",
    "id": "7tmSqc3aRYYC"
   },
   "source": [
    "# Silicon diamond tutorial\n",
    "\n",
    "## Remote fetch source code from Github"
   ]
  },
  {
   "cell_type": "code",
   "execution_count": null,
   "metadata": {
    "colab": {},
    "colab_type": "code",
    "id": "7SHu3FQYReZC"
   },
   "outputs": [],
   "source": [
    "!pip install git+https://github.com/nanotheorygroup/kaldo"
   ]
  },
  {
   "cell_type": "markdown",
   "metadata": {
    "colab_type": "text",
    "id": "W3jVRdQg1US_"
   },
   "source": [
    "## Remote fetch supplyment files\n"
   ]
  },
  {
   "cell_type": "code",
   "execution_count": null,
   "metadata": {
    "colab": {},
    "colab_type": "code",
    "id": "n4PN3gLv08-r"
   },
   "outputs": [],
   "source": [
    "# Remote fetch kaldo resources from drop box\n",
    "!wget https://www.dropbox.com/s/bvw0qcxy397g25q/kaldo_resources.zip?dl=0\n",
    "!mv kaldo_resources.zip?dl=0 kaldo_resources.zip\n",
    "!unzip kaldo_resources.zip\n",
    "\n",
    "# Copy files from to the workspace\n",
    "!cp -r kaldo_resources/forcefields.zip ./\n",
    "\n",
    "# Unzip files\n",
    "!unzip forcefields.zip\n",
    "\n",
    "# Clean workspace\n",
    "!rm -r forcefields.zip\n",
    "!rm -r structure_a_si_512.zip\n",
    "!rm -r kaldo_resources.zip\n"
   ]
  },
  {
   "cell_type": "markdown",
   "metadata": {
    "colab_type": "text",
    "id": "QNd3HLW992Av"
   },
   "source": [
    "## Remote fetch precomplied LAMMPS\n"
   ]
  },
  {
   "cell_type": "code",
   "execution_count": null,
   "metadata": {
    "colab": {},
    "colab_type": "code",
    "id": "l3yNjxeR9-m-"
   },
   "outputs": [],
   "source": [
    "# Fetch prebuild lammps binary files from dropbox \n",
    "!wget https://www.dropbox.com/s/cqqhh1ax5er0u8b/lmp-tesla-t4-intel-xeon.gz?dl=0\n",
    "!mv lmp-tesla-t4-intel-xeon.gz?dl=0 lmp-tesla-t4-intel-xeon.gz\n",
    "!tar xvzf lmp-tesla-t4-intel-xeon.gz\n",
    "!rm /content/lmp-tesla-t4-intel-xeon.gz\n",
    "\n",
    "# Navigate back to lammps source foder when for \n",
    "# later LAMMPS-Python integration\n",
    "%cd /content/lammps/src\n",
    "\n",
    "print('\\n')\n",
    "print('Remote Fetching precomplied LAMMPS is finished!')"
   ]
  },
  {
   "cell_type": "markdown",
   "metadata": {
    "colab_type": "text",
    "id": "N45o6ZTG_6w7"
   },
   "source": [
    "## Integrate LAMMPS Into Python "
   ]
  },
  {
   "cell_type": "code",
   "execution_count": null,
   "metadata": {
    "colab": {},
    "colab_type": "code",
    "id": "HN8HfxJN_7dU"
   },
   "outputs": [],
   "source": [
    "!make install-python\n",
    "\n",
    "# Copy executable file to where the python Module locates\n",
    "import shutil \n",
    "src_path = '/usr/lib/python3/dist-packages/liblammps.so'\n",
    "dist_path = '/usr/local/lib/python3.7/dist-packages/liblammps.so'\n",
    "shutil.copyfile(src_path,dist_path)\n",
    "\n",
    "# Naviagate back to main folder before simulation\n",
    "%cd /content\n",
    "print('\\n')\n",
    "print('LAMMPS-Python Integration is completed!')"
   ]
  },
  {
   "cell_type": "markdown",
   "metadata": {
    "colab_type": "text",
    "id": "FlzbvmDEACjK"
   },
   "source": [
    "## Thermal transport simulation for silicon-bulk"
   ]
  },
  {
   "cell_type": "markdown",
   "metadata": {
    "colab_type": "text",
    "id": "uzhWN30mYhsT"
   },
   "source": [
    "### Compute $2^{nd}$ and $3^{rd}$ order IFCS."
   ]
  },
  {
   "cell_type": "code",
   "execution_count": null,
   "metadata": {
    "colab": {},
    "colab_type": "code",
    "id": "pznkqF7TYg7c"
   },
   "outputs": [],
   "source": [
    "from ase.build import bulk\n",
    "from ase.calculators.lammpslib import LAMMPSlib\n",
    "from kaldo.forceconstants import ForceConstants\n",
    "import numpy as np\n",
    "\n",
    "# We start from the atoms object\n",
    "atoms = bulk('Si', 'diamond', a=5.432)\n",
    "\n",
    "# Config super cell and calculator input\n",
    "supercell = np.array([3, 3, 3])\n",
    "lammps_inputs = {\n",
    "      'lmpcmds': [\n",
    "          'pair_style tersoff',\n",
    "          'pair_coeff * * forcefields/Si.tersoff Si'],\n",
    "\n",
    "      'log_file': 'lammps-si-bulk.txt',\n",
    "      'keep_alive':True}\n",
    "\n",
    "# Create a finite difference object\n",
    "forceconstants_config  = {'atoms':atoms,'supercell': supercell,'folder':'fd'}\n",
    "forceconstants = ForceConstants(**forceconstants_config)\n",
    "\n",
    "# Compute 2nd and 3rd IFCs with the defined calculators\n",
    "forceconstants.second.calculate(LAMMPSlib(**lammps_inputs), delta_shift=1e-4)\n",
    "forceconstants.third.calculate(LAMMPSlib(**lammps_inputs), delta_shift=1e-4)"
   ]
  },
  {
   "cell_type": "markdown",
   "metadata": {
    "colab_type": "text",
    "id": "nMaD_Vp3Yq8M"
   },
   "source": [
    "### Create phonons object\n"
   ]
  },
  {
   "cell_type": "code",
   "execution_count": 7,
   "metadata": {
    "colab": {},
    "colab_type": "code",
    "id": "wmohtOrZYqB9"
   },
   "outputs": [],
   "source": [
    "from kaldo.phonons import Phonons\n",
    "\n",
    "# Define k-point grids, temperature\n",
    "# and the assumption for the \n",
    "# phonon poluation (i.e classical vs. quantum)\n",
    "k = 7\n",
    "kpts = [k, k, k]\n",
    "temperature = 300\n",
    "is_classic = False\n",
    "k_label = str(k) + '_' + str(k) + '_' + str(k)\n",
    "\n",
    "# Create a phonon object\n",
    "phonons = Phonons(forceconstants=forceconstants,\n",
    "                kpts=kpts,\n",
    "                is_classic=is_classic,\n",
    "                temperature=temperature,\n",
    "                folder='si-bulk-ald-' + k_label,\n",
    "                storage='numpy')"
   ]
  },
  {
   "cell_type": "markdown",
   "metadata": {
    "colab_type": "text",
    "id": "NO5weMg1YbjD"
   },
   "source": [
    "### Calculate conductivities for infinite-size sample\n"
   ]
  },
  {
   "cell_type": "code",
   "execution_count": null,
   "metadata": {
    "colab": {},
    "colab_type": "code",
    "id": "r4DQJ9R8_LSs"
   },
   "outputs": [],
   "source": [
    "from kaldo.conductivity import Conductivity\n",
    "\n",
    "# Calculate conductivity  with direct inversion approach (inverse)\n",
    "print('\\n')\n",
    "inv_cond_matrix = (Conductivity(phonons=phonons, method='inverse').conductivity.sum(axis=0))\n",
    "print('Inverse conductivity (W/mK): %.3f'%(np.mean(np.diag(inv_cond_matrix))))\n",
    "print(inv_cond_matrix)\n",
    "\n",
    "# Calculate conductivity  with  relaxation time approximation (rta)\n",
    "print('\\n')\n",
    "rta_cond_matrix = Conductivity(phonons=phonons, method='rta').conductivity.sum(axis=0)\n",
    "print('Rta conductivity (W/mK): %.3f'%(np.mean(np.diag(rta_cond_matrix))))\n",
    "print(rta_cond_matrix)\n",
    "# Calculate conductivity  with  self-consistent approach (sc)\n",
    "\n",
    "print('\\n')\n",
    "sc_cond_matrix = Conductivity(phonons=phonons, method='sc',n_iterations=20).conductivity.sum(axis=0)\n",
    "print('Self-consistent conductivity (W/mK): %.3f'%(np.mean(np.diag(sc_cond_matrix))))\n",
    "print(sc_cond_matrix)"
   ]
  },
  {
   "cell_type": "markdown",
   "metadata": {
    "colab_type": "text",
    "id": "C7Cyk7teqqbO"
   },
   "source": [
    "### Visualize harmonic properties using built-in plotter\n"
   ]
  },
  {
   "cell_type": "code",
   "execution_count": null,
   "metadata": {
    "colab": {},
    "colab_type": "code",
    "id": "vPF77pJPpeXk"
   },
   "outputs": [],
   "source": [
    "import kaldo.controllers.plotter as plotter\n",
    "import matplotlib.pyplot as plt\n",
    "plt.style.use('seaborn-poster')\n",
    "\n",
    "# Plot dispersion relation and group velocity in each direction\n",
    "plotter.plot_dispersion(phonons,n_k_points=int(k_label))\n",
    "print('\\n')"
   ]
  },
  {
   "cell_type": "markdown",
   "metadata": {
    "colab_type": "text",
    "id": "OMgSvwd3q4jN"
   },
   "source": [
    "### Access and visualize properties calculated during simulations"
   ]
  },
  {
   "cell_type": "code",
   "execution_count": null,
   "metadata": {
    "colab": {},
    "colab_type": "code",
    "id": "WWi2-O99HQv3"
   },
   "outputs": [],
   "source": [
    "# Direct access to properties\n",
    "# calculated during the simulation\n",
    "\n",
    "# Plot heat capacity vs frequency\n",
    "freq_full = phonons.frequency.flatten(order='C')\n",
    "cv_1d = phonons.heat_capacity.flatten(order='C')[3:]\n",
    "\n",
    "print('\\n')\n",
    "plt.figure()\n",
    "plt.scatter(freq_full[3:],1e23*cv_1d,s=15)\n",
    "plt.ylabel (r\"$C_{v}$ ($10^{23}$ J/K)\", fontsize=25, fontweight='bold')\n",
    "plt.xlabel (\"$\\\\nu$ (Thz)\", fontsize=25, fontweight='bold')\n",
    "plt.ylim(0.9*1e23*cv_1d[cv_1d>0].min(), \n",
    "         1.05*1e23*cv_1d.max())\n",
    "plt.show()\n",
    "\n",
    "# Plot phonon bandwidth vs frequency\n",
    "band_wdidth_flatten = phonons.bandwidth.flatten(order='C')\n",
    "freq = freq_full[band_wdidth_flatten!=0]\n",
    "\n",
    "print('\\n')\n",
    "plt.figure()\n",
    "plt.scatter(freq,band_wdidth_flatten[band_wdidth_flatten!=0] ,s=15)\n",
    "plt.ylabel (r\"$\\Gamma$ (Thz)\", fontsize=25, fontweight='bold')\n",
    "plt.xlabel (\"$\\\\nu$ (Thz)\", fontsize=25, fontweight='bold')\n",
    "plt.ylim(0.95*band_wdidth_flatten .min(), 1.05*band_wdidth_flatten .max())\n",
    "plt.show()\n",
    "\n",
    "# Plot phase space vs frequency\n",
    "print('\\n')\n",
    "plt.figure()\n",
    "plt.scatter(freq_full[3:],phonons.phase_space.flatten(order='C')[3:],s=15)\n",
    "plt.ylabel (\"Phase space\", fontsize=25, fontweight='bold')\n",
    "plt.xlabel (\"$\\\\nu$ (Thz)\", fontsize=25, fontweight='bold')\n",
    "plt.ylim(phonons.phase_space.min(), phonons.phase_space.max())\n",
    "plt.show()"
   ]
  },
  {
   "cell_type": "markdown",
   "metadata": {
    "colab_type": "text",
    "id": "N8CQx70vPKqO"
   },
   "source": [
    "### Calculate and visualize $\\kappa_{per \\ mode}$ and $\\kappa_{cum}$"
   ]
  },
  {
   "cell_type": "code",
   "execution_count": 11,
   "metadata": {
    "colab": {},
    "colab_type": "code",
    "id": "hf_1RScJJOCX"
   },
   "outputs": [],
   "source": [
    "def cumulative_cond_cal(freq,full_cond,n_phonons):\n",
    "\n",
    "  conductivity = np.einsum('maa->m', 1/3 * full_cond)\n",
    "  conductivity = conductivity.reshape(n_phonons)\n",
    "  cumulative_cond = np.zeros_like(conductivity)\n",
    "  freq_reshaped = freq.reshape(n_phonons)\n",
    "\n",
    "  for mu in range(cumulative_cond.size):\n",
    "      single_cumulative_cond = conductivity[(freq_reshaped < freq_reshaped[mu])].sum()\n",
    "      cumulative_cond[mu] = single_cumulative_cond\n",
    "  \n",
    "  return cumulative_cond"
   ]
  },
  {
   "cell_type": "code",
   "execution_count": null,
   "metadata": {
    "colab": {},
    "colab_type": "code",
    "id": "CbCO9cIsPrVP"
   },
   "outputs": [],
   "source": [
    "# Compute conductivity with per phonon mode basis using different methods\n",
    "kappa_rta_per_mode = np.einsum('maa->m',1/3*Conductivity(phonons=phonons, method='rta').conductivity)\n",
    "kappa_inv_per_mode = np.einsum('maa->m',1/3*Conductivity(phonons=phonons, method='inverse').conductivity)\n",
    "kappa_sc_per_mode = np.einsum('maa->m',1/3*Conductivity(phonons=phonons, method='sc',n_iterations=20).conductivity)\n",
    "\n",
    "# Compute cumulative conductivity by frequency using different methods\n",
    "kappa_rta_cum_freq = cumulative_cond_cal(phonons.frequency,Conductivity(phonons=phonons, method='rta').conductivity,phonons.n_phonons)\n",
    "kappa_sc_cum_freq = cumulative_cond_cal(phonons.frequency,Conductivity(phonons=phonons, method='sc',n_iterations=20).conductivity,phonons.n_phonons)\n",
    "kappa_inv_cum_freq = cumulative_cond_cal(phonons.frequency,Conductivity(phonons=phonons, method='inverse').conductivity,phonons.n_phonons)\n",
    "kappa_qhgk_cum_freq = cumulative_cond_cal(phonons.frequency,Conductivity(phonons=phonons, method='qhgk').conductivity,phonons.n_phonons)\n",
    "print('\\n')\n",
    "\n",
    "# Visualize the cumulative conductivity vs frequency\n",
    "plt.figure()\n",
    "plt.plot(freq_full,kappa_rta_per_mode,'r.',label='RTA')\n",
    "plt.plot(freq_full,kappa_sc_per_mode,'mo',label='Self Consistent',ms=8)\n",
    "plt.plot(freq_full,kappa_inv_per_mode,'k.',label='Direct Inversion')\n",
    "plt.xlabel (\"$\\\\nu$ (Thz)\", fontsize=25, fontweight='bold')\n",
    "plt.ylabel(r'$\\kappa(W/m/K)$', fontsize=25, fontweight='bold')\n",
    "plt.legend(loc=1,frameon=False)\n",
    "#plt.grid()\n",
    "plt.show()\n",
    "print('\\n')\n",
    "\n",
    "# Visualize the cumulative conductivity vs frequency\n",
    "plt.figure()\n",
    "plt.plot(freq_full,kappa_rta_cum_freq,'r.',label='RTA')\n",
    "plt.plot(freq_full,kappa_sc_cum_freq,'mo',label='Self Consistent',ms=8)\n",
    "plt.plot(freq_full,kappa_inv_cum_freq,'k.',label='Direct Inversion')\n",
    "plt.xlabel (\"$\\\\nu$ (Thz)\", fontsize=25, fontweight='bold')\n",
    "plt.ylabel(r'$\\kappa_{cum}(W/m/K)$', fontsize=25, fontweight='bold')\n",
    "plt.legend(loc=4,frameon=False)\n",
    "plt.grid()\n",
    "plt.show()"
   ]
  }
 ],
 "metadata": {
  "colab": {
   "collapsed_sections": [],
   "name": "crystal_presentation.ipynb",
   "provenance": [],
   "toc_visible": true
  },
  "kernelspec": {
   "display_name": "Python 3",
   "name": "python3"
  },
  "pycharm": {
   "stem_cell": {
    "cell_type": "raw",
    "metadata": {
     "collapsed": false
    },
    "source": []
   }
  }
 },
 "nbformat": 4,
 "nbformat_minor": 0
}
