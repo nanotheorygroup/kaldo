{
 "cells": [
  {
   "cell_type": "markdown",
   "metadata": {
    "colab_type": "text",
    "id": "dHdJjiXZCLJo"
   },
   "source": [
    "This notebook can be run on Google Colab.\n",
    " \n",
    "[![Open in Colab](https://colab.research.google.com/assets/colab-badge.svg)](https://colab.research.google.com/github/nanotheorygroup/kaldo/blob/master/docs/docsource/amorphous_presentation.ipynb)\n",
    "\n",
    "\n",
    "\n",
    "In Colab, you can enable the GPU acceleration from `Edit` > `Notebook Settings` > `Accelerator` > `GPU`."
   ]
  },
  {
   "cell_type": "markdown",
   "metadata": {
    "colab_type": "text",
    "id": "7FyYE9deWm0n"
   },
   "source": [
    "# Amorphous silicon tutorial\n",
    "\n",
    "## Remote fetch source code from Github"
   ]
  },
  {
   "cell_type": "code",
   "execution_count": null,
   "metadata": {
    "colab": {},
    "colab_type": "code",
    "id": "OlqEn06vWngA"
   },
   "outputs": [],
   "source": [
    "!git clone https://github.com/nanotheorygroup/kaldo.git"
   ]
  },
  {
   "cell_type": "markdown",
   "metadata": {
    "colab_type": "text",
    "id": "cG1Gj9syPoLo"
   },
   "source": [
    "## Install Kaldo from source"
   ]
  },
  {
   "cell_type": "code",
   "execution_count": null,
   "metadata": {
    "colab": {},
    "colab_type": "code",
    "id": "SWJS6VqVPqNO"
   },
   "outputs": [],
   "source": [
    "!rm -r /content/sample_data\n",
    "\n",
    "# Update utilities for tensorboard\n",
    "!pip install --upgrade grpcio\n",
    "!pip install --upgrade google-auth\n",
    "\n",
    "# Install kALDo from source\n",
    "%cd /content/kaldo\n",
    "!pip install .\n",
    "\n",
    "# Navigate back to workspace after installation completes\n",
    "%cd /content/"
   ]
  },
  {
   "cell_type": "markdown",
   "metadata": {
    "colab_type": "text",
    "id": "mcJKaE2kRI3A"
   },
   "source": [
    "## Fetch supplyment data remotely"
   ]
  },
  {
   "cell_type": "code",
   "execution_count": null,
   "metadata": {
    "colab": {},
    "colab_type": "code",
    "id": "rJ5_3iNXRJXb"
   },
   "outputs": [],
   "source": [
    "# Remote fetch kaldo resources from drop box\n",
    "!wget https://www.dropbox.com/s/bvw0qcxy397g25q/kaldo_resources.zip?dl=0\n",
    "!mv kaldo_resources.zip?dl=0 kaldo_resources.zip\n",
    "!unzip kaldo_resources.zip\n",
    "\n",
    "# Copy files from to the workspace\n",
    "!cp -r kaldo_resources/forcefields.zip ./\n",
    "!cp -r kaldo_resources/structure_a_si_512.zip ./\n",
    "\n",
    "# Unzip files\n",
    "!unzip forcefields.zip\n",
    "!unzip structure_a_si_512.zip\n",
    
    "\n",
    "# Clean workspace\n",
    "!rm -r forcefields.zip\n",
    "!rm -r structure_a_si_512.zip\n",
    "!rm -r kaldo_resources.zip"
   ]
  },
  {
   "cell_type": "markdown",
   "metadata": {
    "colab_type": "text",
    "id": "BHy3vn8PNpA1"
   },
   "source": [
    "## Thermal transport simulation for Amorphous-Silicon (a-Si)"
   ]
  },
  {
   "cell_type": "markdown",
   "metadata": {
    "colab_type": "text",
    "id": "QYqG22IiVHSp"
   },
   "source": [
    "### Read in force constant objects from folder"
   ]
  },
  {
   "cell_type": "code",
   "execution_count": null,
   "metadata": {
    "colab": {},
    "colab_type": "code",
    "id": "vcUPh-dvfCsQ"
   },
   "outputs": [],
   "source": [
    "from kaldo.forceconstants import ForceConstants\n",
    "\n",
    "# Read amporphous silicon with eskm format\n",
    "forceconstants = ForceConstants.from_folder(folder='structure_a_si_512', format='eskm')"
   ]
  },
  {
   "cell_type": "markdown",
   "metadata": {
    "colab_type": "text",
    "id": "0gbcZx8bVeNL"
   },
   "source": [
    "### Create phonons object\n"
   ]
  },
  {
   "cell_type": "code",
   "execution_count": null,
   "metadata": {
    "colab": {},
    "colab_type": "code",
    "id": "GfMRcxdUd3XD"
   },
   "outputs": [],
   "source": [
    "from kaldo.phonons import Phonons\n",
    "\n",
    "# Create a phonon object\n",
    "# is_classic flag can be true or false, as\n",
    "# well as 0 (quantum) or 1 (classic)\n",
    "phonons = Phonons (forceconstants=forceconstants,\n",
    "                   is_classic=0,\n",
    "                   temperature=300,\n",
    "                   folder='si-amorphous',\n",
    "                   third_bandwidth=0.05/4.135,\n",
    "                   broadening_shape='triangle',\n",
    "                   storage='numpy')"
   ]
  },
  {
   "cell_type": "markdown",
   "metadata": {
    "colab_type": "text",
    "id": "TJL2P1KhV9ee"
   },
   "source": [
    "### Access and visualize properties calculated during simulations"
   ]
  },
  {
   "cell_type": "code",
   "execution_count": null,
   "metadata": {
    "colab": {},
    "colab_type": "code",
    "id": "TwFwssxzf5M8"
   },
   "outputs": [],
   "source": [
    "import matplotlib.pyplot as plt\n",
    "plt.style.use('seaborn-poster')\n",
    "\n",
    "# Direct access to properties\n",
    "# calculated during the simulation\n",
    "frequency = phonons.frequency.flatten(order='C')\n",
    "bandwidth = phonons.bandwidth.flatten(order='C')\n",
    "\n",
    "# Plot phonon bandwidth vs frequency\n",
    "print('\\n')\n",
    "plt.plot(frequency[3:],bandwidth[3:],'.',markersize=10,label= 'broadening shape: ' + str(phonons.broadening_shape))\n",
    "plt.ylabel('$\\Gamma$ (THz)', fontsize=25, fontweight='bold')\n",
    "plt.xlabel(\"$\\\\nu$ (Thz)\", fontsize=25, fontweight='bold')\n",
    "plt.ylim([bandwidth.min(), bandwidth.max()])\n",
    "plt.legend(loc=2,frameon = False)\n",
    "plt.show()\n",
    "\n",
    "phase_space = phonons.phase_space.flatten(order='C')\n",
    "\n",
    "# Plot phase space vs frequency\n",
    "print('\\n')\n",
    "plt.figure()\n",
    "plt.plot(frequency[3:], phase_space[3:], '.', markersize=10)\n",
    "plt.ylabel (\"Phase space\", fontsize=25, fontweight='bold')\n",
    "plt.xlabel(\"$\\\\nu$ (Thz)\", fontsize=25, fontweight='bold')\n",
    "plt.show()\n"
   ]
  },
  {
   "cell_type": "markdown",
   "metadata": {
    "colab_type": "text",
    "id": "kQU4kBeVYM2j"
   },
   "source": [
    "### Calculate and visualize $\\kappa_{per \\ mode}$ and $\\kappa_{cum}$"
   ]
  },
  {
   "cell_type": "code",
   "execution_count": null,
   "metadata": {
    "colab": {},
    "colab_type": "code",
    "id": "PFxwYfR3YNUS"
   },
   "outputs": [],
   "source": [
    "from kaldo.conductivity import Conductivity\n",
    "from kaldo.controllers import plotter\n",
    "import numpy as np\n",
    "\n",
    "# Compute conductivity with per phonon mode basis using qhgk method\n",
    "kappa_qhgk_per_mode = np.einsum('maa->m',1/3*Conductivity(phonons=phonons, method='qhgk',n_iterations=20).conductivity)\n",
    "\n",
    "# Compute cumulative conductivity by frequency with qhgk method\n",
    "kappa_qhgk_cum_freq = plotter.cumulative_cond_cal(phonons.frequency,Conductivity(phonons=phonons, method='qhgk').conductivity,phonons.n_phonons)\n",
    "\n",
    "print('\\n')\n",
    "\n",
    "# Visualize the per mode conductivity vs frequency\n",
    "plt.figure()\n",
    "plt.plot(frequency[3:],kappa_qhgk_per_mode[3:],'.',label='QHGK',ms=8)\n",
    "plt.xlabel (\"$\\\\nu$ (Thz)\", fontsize=25, fontweight='bold')\n",
    "plt.ylabel(r'$\\kappa(W/m/K)$', fontsize=25, fontweight='bold')\n",
    "plt.legend(loc=1,frameon=False)\n",
    "plt.show()\n",
    "\n",
    "print('\\n')\n",
    "\n",
    "# Visualize the cumulative conductivity vs frequency\n",
    "plt.figure()\n",
    "plt.plot(frequency[3:],kappa_qhgk_cum_freq[3:],'.',label='QHGK',ms=8)\n",
    "plt.xlabel (\"$\\\\nu$ (Thz)\", fontsize=25, fontweight='bold')\n",
    "plt.ylabel(r'$\\kappa_{cum}(W/m/K)$', fontsize=25, fontweight='bold')\n",
    "plt.legend(loc=4,frameon=False)\n",
    "plt.grid()\n",
    "plt.show()\n",
    "\n",
    "# Please check out amorphous_silicon_Tersoff_LAMMPS in the example folder for more detail."
   ]
  }
 ],
 "metadata": {
  "accelerator": "GPU",
  "colab": {
   "collapsed_sections": [],
   "name": "amorphous_presentation.ipynb",
   "provenance": [],
   "toc_visible": true
  },
  "kernelspec": {
   "display_name": "Python 3",
   "name": "python3"
  },
  "pycharm": {
   "stem_cell": {
    "cell_type": "raw",
    "metadata": {
     "collapsed": false
    },
    "source": []
   }
  }
 },
 "nbformat": 4,
 "nbformat_minor": 0
}
